{
 "cells": [
  {
   "cell_type": "code",
   "execution_count": 68,
   "metadata": {},
   "outputs": [],
   "source": [
    "###Map Search"
   ]
  },
  {
   "cell_type": "code",
   "execution_count": 69,
   "metadata": {},
   "outputs": [],
   "source": [
    "BEIJING,CHANGCHUN,MULUMUQI,WUHAN,GUANGZHOU,SHENZHEN,BANGKOK,SHANGHAI,NEWYORK=\"\"\"\n",
    "BEIJING CHANGCHUN MULUMUQI WUHAN GUANGZHOU SHENZHEN BANGKOK SHANGHAI NEWYORK\"\"\".split()"
   ]
  },
  {
   "cell_type": "code",
   "execution_count": 3,
   "metadata": {},
   "outputs": [],
   "source": [
    "connection={\n",
    "    CHANGCHUN:[BEIJING],\n",
    "    MULUMUQI:[BEIJING],\n",
    "    BEIJING:[MULUMUQI,CHANGCHUN,WUHAN,SHENZHEN,NEWYORK],\n",
    "    NEWYORK:[BEIJING,SHANGHAI],\n",
    "    SHANGHAI:[NEWYORK,WUHAN],\n",
    "    WUHAN:[SHANGHAI,BEIJING,GUANGZHOU],\n",
    "    GUANGZHOU:[WUHAN,BANGKOK],\n",
    "    SHENZHEN:[WUHAN,BANGKOK],\n",
    "    BANGKOK:[SHENZHEN,GUANGZHOU]\n",
    "}"
   ]
  },
  {
   "cell_type": "code",
   "execution_count": 4,
   "metadata": {},
   "outputs": [],
   "source": [
    "import networkx as nx"
   ]
  },
  {
   "cell_type": "code",
   "execution_count": 5,
   "metadata": {},
   "outputs": [],
   "source": [
    "matplotlib inline"
   ]
  },
  {
   "cell_type": "code",
   "execution_count": 6,
   "metadata": {},
   "outputs": [],
   "source": [
    "graph=connection"
   ]
  },
  {
   "cell_type": "code",
   "execution_count": 7,
   "metadata": {},
   "outputs": [],
   "source": [
    "g=nx.Graph(graph)"
   ]
  },
  {
   "cell_type": "code",
   "execution_count": 8,
   "metadata": {},
   "outputs": [
    {
     "name": "stderr",
     "output_type": "stream",
     "text": [
      "C:\\ProgramData\\Anaconda3\\lib\\site-packages\\networkx\\drawing\\nx_pylab.py:611: MatplotlibDeprecationWarning: isinstance(..., numbers.Number)\n",
      "  if cb.is_numlike(alpha):\n"
     ]
    },
    {
     "data": {
      "image/png": "[encoded data removed]",
      "text/plain": [
       "<Figure size 432x288 with 1 Axes>"
      ]
     },
     "metadata": {},
     "output_type": "display_data"
    }
   ],
   "source": [
    "nx.draw(g)"
   ]
  },
  {
   "cell_type": "code",
   "execution_count": 9,
   "metadata": {},
   "outputs": [],
   "source": [
    "def nagivator(start,destination,connection_graph):    \n",
    "    pathes=[[start] ]\n",
    "    #将已经过的内容放在seen中，防止往回看\n",
    "    seen=set()\n",
    "    while pathes:\n",
    "        path=pathes.pop(0)\n",
    "        froniter=path[-1]\n",
    "#         print (\"I am standing at :{}\".format(froniter))\n",
    "        if froniter in seen:continue\n",
    "        successors=connection_graph[froniter]\n",
    "        \n",
    "        for s in successors:\n",
    "#             print (\"\\-----I am look forward :{}\". format(s))\n",
    "            if s==destination:\n",
    "                path.append(s)\n",
    "                return path\n",
    "            else:\n",
    "                pathes.append(path+[s])\n",
    "        pathes=sorted(pathes,key=len)#最小换乘\n",
    "#         pathes+=successors\n",
    "        seen.add(froniter)"
   ]
  },
  {
   "cell_type": "code",
   "execution_count": 10,
   "metadata": {},
   "outputs": [
    {
     "data": {
      "text/plain": [
       "['CHANGCHUN', 'BEIJING', 'SHENZHEN', 'BANGKOK']"
      ]
     },
     "execution_count": 10,
     "metadata": {},
     "output_type": "execute_result"
    }
   ],
   "source": [
    "nagivator(CHANGCHUN,BANGKOK,connection)"
   ]
  },
  {
   "cell_type": "code",
   "execution_count": 11,
   "metadata": {},
   "outputs": [
    {
     "name": "stdout",
     "output_type": "stream",
     "text": [
      "standing on CHANGCHUNlooking forward ['BEIJING']\n",
      "standing on BEIJINGlooking forward ['MULUMUQI', 'CHANGCHUN', 'WUHAN', 'SHENZHEN', 'NEWYORK']\n",
      "standing on MULUMUQIlooking forward ['BEIJING']\n",
      "standing on WUHANlooking forward ['SHANGHAI', 'BEIJING', 'GUANGZHOU']\n",
      "standing on SHENZHENlooking forward ['WUHAN', 'BANGKOK']\n",
      "standing on NEWYORKlooking forward ['BEIJING', 'SHANGHAI']\n",
      "standing on SHANGHAIlooking forward ['NEWYORK', 'WUHAN']\n",
      "standing on GUANGZHOUlooking forward ['WUHAN', 'BANGKOK']\n",
      "standing on BANGKOKlooking forward ['SHENZHEN', 'GUANGZHOU']\n"
     ]
    }
   ],
   "source": [
    "def nagivator_bfs(start,destination,connection_graph):\n",
    "    pathes=[start]\n",
    "    seen=set()\n",
    "    while pathes:\n",
    "        froniter =pathes.pop(0)\n",
    "        if froniter in seen:continue\n",
    "        successors=connection_graph[froniter]\n",
    "        print('standing on {}looking forward {}'.format(froniter,successors))\n",
    "        pathes=pathes+successors       \n",
    "        seen.add(froniter)\n",
    "nagivator_bfs(CHANGCHUN,BANGKOK,connection)"
   ]
  },
  {
   "cell_type": "code",
   "execution_count": 12,
   "metadata": {},
   "outputs": [
    {
     "name": "stdout",
     "output_type": "stream",
     "text": [
      "standing on CHANGCHUNlooking forward ['BEIJING']\n",
      "standing on BEIJINGlooking forward ['MULUMUQI', 'CHANGCHUN', 'WUHAN', 'SHENZHEN', 'NEWYORK']\n",
      "standing on MULUMUQIlooking forward ['BEIJING']\n",
      "standing on WUHANlooking forward ['SHANGHAI', 'BEIJING', 'GUANGZHOU']\n",
      "standing on SHANGHAIlooking forward ['NEWYORK', 'WUHAN']\n",
      "standing on NEWYORKlooking forward ['BEIJING', 'SHANGHAI']\n",
      "standing on GUANGZHOUlooking forward ['WUHAN', 'BANGKOK']\n",
      "standing on BANGKOKlooking forward ['SHENZHEN', 'GUANGZHOU']\n",
      "standing on SHENZHENlooking forward ['WUHAN', 'BANGKOK']\n"
     ]
    }
   ],
   "source": [
    "def nagivator_dfs(start,destination,connection_graph):\n",
    "    pathes=[start]\n",
    "    seen=set()\n",
    "    while pathes:\n",
    "        froniter=pathes.pop(0)\n",
    "        if froniter in seen:continue\n",
    "        successors=connection_graph[froniter]\n",
    "        print('standing on {}looking forward {}'.format(froniter,successors))\n",
    "        pathes=successors+pathes\n",
    "        \n",
    "        seen.add(froniter)\n",
    "nagivator_dfs(CHANGCHUN,BANGKOK,connection)        "
   ]
  },
  {
   "cell_type": "code",
   "execution_count": 13,
   "metadata": {},
   "outputs": [],
   "source": [
    "##Sentence Generation##"
   ]
  },
  {
   "cell_type": "code",
   "execution_count": 34,
   "metadata": {},
   "outputs": [],
   "source": [
    "grammer = \"\"\"\n",
    "sentence => noun_phrase verb_phrase \n",
    "noun_phrase => Article Adj* noun\n",
    "Adj* => null | Adj Adj*\n",
    "verb_phrase => verb noun_phrase\n",
    "Article =>  一个 | 这个\n",
    "noun =>   女人 |  篮球 | 桌子 | 小猫\n",
    "verb => 看着   |  坐在 |  听着 | 看见\n",
    "Adj =>   蓝色的 |  好看的 | 小小的\n",
    "\"\"\""
   ]
  },
  {
   "cell_type": "code",
   "execution_count": 35,
   "metadata": {},
   "outputs": [],
   "source": [
    "import random"
   ]
  },
  {
   "cell_type": "code",
   "execution_count": null,
   "metadata": {},
   "outputs": [],
   "source": [
    "def parse_grammer(grammer_str,sep='=>'):\n",
    "    grammer={}\n",
    "    for line in grammer_str.split('\\n'):\n",
    "        line=line.strip()\n",
    "        if not line:continue\n",
    "        target,rules=line.split(sep)\n",
    "        grammer[target.strip()]=[r.split()for r in rules.split('|')]\n",
    "    return grammer"
   ]
  },
  {
   "cell_type": "code",
   "execution_count": 50,
   "metadata": {},
   "outputs": [],
   "source": [
    "g=parse_grammer(grammer)"
   ]
  },
  {
   "cell_type": "code",
   "execution_count": 51,
   "metadata": {},
   "outputs": [
    {
     "data": {
      "text/plain": [
       "{'sentence': [['noun_phrase', 'verb_phrase']],\n",
       " 'noun_phrase': [['Article', 'Adj*', 'noun']],\n",
       " 'Adj*': [['null'], ['Adj', 'Adj*']],\n",
       " 'verb_phrase': [['verb', 'noun_phrase']],\n",
       " 'Article': [['一个'], ['这个']],\n",
       " 'noun': [['女人'], ['篮球'], ['桌子'], ['小猫']],\n",
       " 'verb': [['看着'], ['坐在'], ['听着'], ['看见']],\n",
       " 'Adj': [['蓝色的'], ['好看的'], ['小小的']]}"
      ]
     },
     "execution_count": 51,
     "metadata": {},
     "output_type": "execute_result"
    }
   ],
   "source": [
    "g"
   ]
  },
  {
   "cell_type": "code",
   "execution_count": 62,
   "metadata": {},
   "outputs": [],
   "source": [
    "def gene(grammer_parsed,target='sentence'):\n",
    "    if target not in grammer_parsed:return target\n",
    "    rule=random.choice(grammer_parsed[target])\n",
    "    return ''.join(gene(grammer_parsed,target=r) for r in rule if r!='null')"
   ]
  },
  {
   "cell_type": "code",
   "execution_count": 63,
   "metadata": {},
   "outputs": [
    {
     "data": {
      "text/plain": [
       "'一个篮球听着这个桌子'"
      ]
     },
     "execution_count": 63,
     "metadata": {},
     "output_type": "execute_result"
    }
   ],
   "source": [
    "gene(g)"
   ]
  },
  {
   "cell_type": "code",
   "execution_count": null,
   "metadata": {},
   "outputs": [],
   "source": []
  },
  {
   "cell_type": "code",
   "execution_count": null,
   "metadata": {},
   "outputs": [],
   "source": []
  },
  {
   "cell_type": "code",
   "execution_count": null,
   "metadata": {},
   "outputs": [],
   "source": []
  }
 ],
 "metadata": {
  "kernelspec": {
   "display_name": "Python 3",
   "language": "python",
   "name": "python3"
  },
  "language_info": {
   "codemirror_mode": {
    "name": "ipython",
    "version": 3
   },
   "file_extension": ".py",
   "mimetype": "text/x-python",
   "name": "python",
   "nbconvert_exporter": "python",
   "pygments_lexer": "ipython3",
   "version": "3.7.1"
  }
 },
 "nbformat": 4,
 "nbformat_minor": 2
}
