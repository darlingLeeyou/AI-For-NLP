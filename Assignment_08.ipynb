{
 "cells": [
  {
   "cell_type": "markdown",
   "metadata": {},
   "source": [
    "# 基础概念复习"
   ]
  },
  {
   "cell_type": "markdown",
   "metadata": {},
   "source": [
    "1.机器学习方法主要用在什么特点的场景下？"
   ]
  },
  {
   "cell_type": "markdown",
   "metadata": {},
   "source": [
    "Ans:首次出现是因为互联网爆发时过滤垃圾邮件，机器学习主要应用于基于规则和模版没办法解决问题。主要解决问题：告诉程序这个问题的大概模型，然后里面的参数由程序由数据驱动得出。"
   ]
  },
  {
   "cell_type": "markdown",
   "metadata": {},
   "source": [
    "2.提出3个你认为使用了机器学习方法的现实场景."
   ]
  },
  {
   "cell_type": "markdown",
   "metadata": {},
   "source": [
    "Ans：1)自动驾驶2）广告推荐3）数据融合"
   ]
  },
  {
   "cell_type": "markdown",
   "metadata": {},
   "source": [
    "3.什么是“模型”？ 为什么说“All models are wrong, but some useful”."
   ]
  },
  {
   "cell_type": "markdown",
   "metadata": {},
   "source": [
    "Ans：模型是对现实问题的抽象和简化。“All models are wrong, but some useful”指的是没有一个适合一切场景的模型，对于一个场景可以选择最合适的模型。"
   ]
  },
  {
   "cell_type": "markdown",
   "metadata": {},
   "source": [
    "4.Classification 和 Regressionu主要针对什么？ 有什么区别？"
   ]
  },
  {
   "cell_type": "markdown",
   "metadata": {},
   "source": [
    "Ans：Classification 分类，对类别进行区分。Regressionu回归，找到一条线对趋势进行拟合，真实场景下是对现实的预测。两者区别：Classification 分类，产生的只是类别，结果之间没有相似度区别，categorical；Regressionu回归产生的结果之间是有相似度远近的区别，numerical。evaluate不同，Regressionu使用误差，Classification使用precision，recall"
   ]
  },
  {
   "cell_type": "markdown",
   "metadata": {},
   "source": [
    "5.precision， recall，f1, auc 分别是什么意思？ 假设一个城市有 10000 人，有 30 个犯罪分子，警察抓到了 35 个人，其中 20 个是犯罪分子，请问这个警察的 precision, recall, f1,auc 分别是什么？"
   ]
  },
  {
   "cell_type": "markdown",
   "metadata": {},
   "source": [
    "Ans：precision预测率，recall召回率（覆盖率），f1=2*(precision*recall)/(precision+recall), auc是接收者操作特征曲线ROC下的面积。precision=20/35，recall=20/30，f1=0.615，auc="
   ]
  },
  {
   "cell_type": "markdown",
   "metadata": {},
   "source": [
    "6.请提出两种场景，第一种场景下，对模型的评估很注重 precision, 第二种很注重 recall."
   ]
  },
  {
   "cell_type": "markdown",
   "metadata": {},
   "source": [
    "Ans:警察更倾向需要更大的recall，法官倾向更大的precision"
   ]
  },
  {
   "cell_type": "markdown",
   "metadata": {},
   "source": [
    "7.什么是 Overfitting， 什么是 Underfitting?"
   ]
  },
  {
   "cell_type": "markdown",
   "metadata": {},
   "source": [
    "Ans：Overfitting：模型在训练集效果很好，在验证数据集效果不好。可能原因：\n",
    "1）特征选取范围过大，把训练样本本身的特性当成所有潜在样本的共性\n",
    "2）模型太过复杂，参数过多\n",
    "3）训练数据少\n",
    "Underfitting：模型复杂度不够而无法捕捉数据的基本关系。可能原因：\n",
    "1）数据量少\n",
    "2）模型简单"
   ]
  },
  {
   "cell_type": "markdown",
   "metadata": {},
   "source": [
    "8.Lazy-Learning， Lazy在哪里？"
   ]
  },
  {
   "cell_type": "markdown",
   "metadata": {},
   "source": [
    "Ans：只是对数据的累计，没有通过数据观察后抽象建立模型，适应所有问题，例如：Knn算法只取离得最近的几个样本对数据进行判断。"
   ]
  },
  {
   "cell_type": "markdown",
   "metadata": {},
   "source": [
    "9.Median， Mode， Mean分别是什么？ 有什么意义？"
   ]
  },
  {
   "cell_type": "markdown",
   "metadata": {},
   "source": [
    "Ans：Median：中位数，数据从小到大排序，取中间的一个数，50percentile百分位\n",
    "Mode：众数，出现次数最多的数字\n",
    "Mean：平均数"
   ]
  },
  {
   "cell_type": "markdown",
   "metadata": {},
   "source": [
    "10.Outlinear（异常值、离群值）是什么？ 如何定义？"
   ]
  },
  {
   "cell_type": "markdown",
   "metadata": {},
   "source": [
    "Ans：偏离正常数据的值，训练数据中除掉的值。一般统计学定义：比75分位的1.5倍大，比25分位除以1.5小"
   ]
  },
  {
   "cell_type": "markdown",
   "metadata": {},
   "source": [
    "11.Bias 和 Variance 有什么关系？ 他们之间为什么是一种 tradeoff 的？"
   ]
  },
  {
   "cell_type": "markdown",
   "metadata": {},
   "source": [
    "Ans：统计学中将Overfitting、Underfitting表述成Variance、Bias\n",
    "bias:偏差，欠拟合，模型没有把握数据之间关系，没有抓住特性，训练集效果差\n",
    "variance：过拟合，对数据太敏感，输入数据变化就会出现错误，训练集效果好，新的数据不好\n",
    "Bias 和 Variance 关系：随着模型复杂度的增加，Bias会变小，Variance增大\n",
    "Bias和Variance需要对现有数据很好地拟合，也需要对未知数据也有很好的表现"
   ]
  },
  {
   "cell_type": "markdown",
   "metadata": {},
   "source": [
    "12.Train， Validation，Test 数据集之间是什么关系？ 为什么要这么划分？"
   ]
  },
  {
   "cell_type": "markdown",
   "metadata": {},
   "source": [
    "Ans：train用来训练模型,validation用来修改模型,test用来模型建好后测试模型结果\n",
    "当train loss小，validation loss大，说明过拟合，调整参数，当train loss、validation loss都很合适时，模型确定下来后，用test来检测模型效果"
   ]
  },
  {
   "cell_type": "markdown",
   "metadata": {},
   "source": [
    "13.Supervised Learning 的 Supervised 体现在什么地方？"
   ]
  },
  {
   "cell_type": "markdown",
   "metadata": {},
   "source": [
    "Ans:Supervised 体现在模型会有评价指标，有一个标准的值判断是否正确，有标签"
   ]
  },
  {
   "cell_type": "markdown",
   "metadata": {},
   "source": [
    "14.Linear Regression 中，什么是“线性关系”？"
   ]
  },
  {
   "cell_type": "markdown",
   "metadata": {},
   "source": [
    "Ans：LR模型，线性回归模型，“线性关系”指所有变量的幂都是一致的"
   ]
  },
  {
   "cell_type": "markdown",
   "metadata": {},
   "source": [
    "15.Linear Regression中，Loss 函数怎么定义的？ 为什么要写成这样？ 什么是凸函数？ 优化中有什么意义？"
   ]
  },
  {
   "cell_type": "markdown",
   "metadata": {},
   "source": [
    "Ans：Loss 函数MeanSquaredError=$1/n\\sum_{}{(y_i-f(x_i))^2}$,写成这样是因为平方可以加大误差的影响。\n",
    "凸函数是指沿着曲线开车，方向盘不会改变方向。优化可以讲非凸函数变为凸函数，求最值。"
   ]
  },
  {
   "cell_type": "markdown",
   "metadata": {},
   "source": [
    "16.简述Gradient Descent的过程，以  为例，从一个任一点  开始，如果根据 Gradient Descent 找到最值。"
   ]
  },
  {
   "cell_type": "markdown",
   "metadata": {},
   "source": [
    "Ans:Gradient Descent梯度下降，即沿着梯度下降，二维平面为导数，三维平面为梯度。方法：loss对参数w求偏导，偏导>0,则沿着w方向变化，偏导<0,则沿着w反方向变化，直到到w的最值。"
   ]
  },
  {
   "cell_type": "markdown",
   "metadata": {},
   "source": [
    "17.一般在机器学习数量时，会做一个预处理（Normalization）， 简述 Normalization 的过程，以及数据经过 Normalization之后的平均值和标准差的情况。"
   ]
  },
  {
   "cell_type": "markdown",
   "metadata": {},
   "source": [
    "Ans：1）缩放，将数据减去平均值；2）标准化，除以标准差\n",
    "处理后数据的平均值为0，标准差为1，为标准正态分布。\n",
    "优点：将数据处理后更易拟合，将未知数据也会同样做这样的处理，那样就不会改变模型"
   ]
  },
  {
   "cell_type": "markdown",
   "metadata": {},
   "source": [
    "18.Logstic Regression 的 Logstic 是什么曲线，被用在什么地方？"
   ]
  },
  {
   "cell_type": "markdown",
   "metadata": {},
   "source": [
    "Ans：Logstic Regression p=1/(1+$e^{-x}$)最低点0，最高点1。用途：1）可以把任意一个数据变成一个概率，可以用于分类。2）预测，用线性函数拟合Logstic曲线进行预测"
   ]
  },
  {
   "cell_type": "markdown",
   "metadata": {},
   "source": [
    "19.Logstic Regression 的 Loss 函数 Cross Entropy 是怎么样的形式？ 有什么意义？"
   ]
  },
  {
   "cell_type": "markdown",
   "metadata": {},
   "source": [
    "Ans：Loss 函数 Cross Entropy交叉熵，Loss=$-\\sum_{x}{p(x)logq(x)}$.意义：当实际输出值与期待输出接近时，交叉熵会接近0"
   ]
  },
  {
   "cell_type": "code",
   "execution_count": null,
   "metadata": {},
   "outputs": [],
   "source": []
  }
 ],
 "metadata": {
  "kernelspec": {
   "display_name": "Python 3",
   "language": "python",
   "name": "python3"
  },
  "language_info": {
   "codemirror_mode": {
    "name": "ipython",
    "version": 3
   },
   "file_extension": ".py",
   "mimetype": "text/x-python",
   "name": "python",
   "nbconvert_exporter": "python",
   "pygments_lexer": "ipython3",
   "version": "3.7.1"
  }
 },
 "nbformat": 4,
 "nbformat_minor": 2
}
