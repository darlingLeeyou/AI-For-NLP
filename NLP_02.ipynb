{
 "cells": [
  {
   "cell_type": "markdown",
   "metadata": {},
   "source": [
    "# 1load data"
   ]
  },
  {
   "cell_type": "code",
   "execution_count": 230,
   "metadata": {},
   "outputs": [
    {
     "name": "stdout",
     "output_type": "stream",
     "text": [
      "/Users/apple/Desktop/deep learning/NLP/2\r\n"
     ]
    }
   ],
   "source": [
    "!pwd"
   ]
  },
  {
   "cell_type": "code",
   "execution_count": 242,
   "metadata": {},
   "outputs": [],
   "source": [
    "database = '/Users/apple/Desktop/deep learning/NLP/2/sqlResult_1558435.csv'"
   ]
  },
  {
   "cell_type": "code",
   "execution_count": 243,
   "metadata": {},
   "outputs": [
    {
     "data": {
      "text/plain": [
       "True"
      ]
     },
     "execution_count": 243,
     "metadata": {},
     "output_type": "execute_result"
    }
   ],
   "source": [
    "import os\n",
    "os.path.exists(database)#检查database路径是否正确"
   ]
  },
  {
   "cell_type": "markdown",
   "metadata": {},
   "source": [
    "# 语料编码问题\n",
    "查询Python各语言的编码：https://docs.python.org/2.4/lib/standard-encodings.html\n",
    "Python提供编码自动检测方法: https:/https://chardet.readthedocs.io/en/latest/usage.html/chardet.readthedocs.io/en/latest/usage.html"
   ]
  },
  {
   "cell_type": "code",
   "execution_count": 251,
   "metadata": {},
   "outputs": [
    {
     "data": {
      "text/html": [
       "<div>\n",
       "<style scoped>\n",
       "    .dataframe tbody tr th:only-of-type {\n",
       "        vertical-align: middle;\n",
       "    }\n",
       "\n",
       "    .dataframe tbody tr th {\n",
       "        vertical-align: top;\n",
       "    }\n",
       "\n",
       "    .dataframe thead th {\n",
       "        text-align: right;\n",
       "    }\n",
       "</style>\n",
       "<table border=\"1\" class=\"dataframe\">\n",
       "  <thead>\n",
       "    <tr style=\"text-align: right;\">\n",
       "      <th></th>\n",
       "      <th>id</th>\n",
       "      <th>author</th>\n",
       "      <th>source</th>\n",
       "      <th>content</th>\n",
       "      <th>feature</th>\n",
       "      <th>title</th>\n",
       "      <th>url</th>\n",
       "    </tr>\n",
       "  </thead>\n",
       "  <tbody>\n",
       "    <tr>\n",
       "      <th>0</th>\n",
       "      <td>89617</td>\n",
       "      <td>NaN</td>\n",
       "      <td>快科技@http://www.kkj.cn/</td>\n",
       "      <td>此外，自本周（6月12日）起，除小米手机6等15款机型外，其余机型已暂停更新发布（含开发版/...</td>\n",
       "      <td>{\"type\":\"科技\",\"site\":\"cnbeta\",\"commentNum\":\"37\"...</td>\n",
       "      <td>小米MIUI 9首批机型曝光：共计15款</td>\n",
       "      <td>http://www.cnbeta.com/articles/tech/623597.htm</td>\n",
       "    </tr>\n",
       "    <tr>\n",
       "      <th>1</th>\n",
       "      <td>89616</td>\n",
       "      <td>NaN</td>\n",
       "      <td>快科技@http://www.kkj.cn/</td>\n",
       "      <td>骁龙835作为唯一通过Windows 10桌面平台认证的ARM处理器，高通强调，不会因为只考...</td>\n",
       "      <td>{\"type\":\"科技\",\"site\":\"cnbeta\",\"commentNum\":\"15\"...</td>\n",
       "      <td>骁龙835在Windows 10上的性能表现有望改善</td>\n",
       "      <td>http://www.cnbeta.com/articles/tech/623599.htm</td>\n",
       "    </tr>\n",
       "    <tr>\n",
       "      <th>2</th>\n",
       "      <td>89615</td>\n",
       "      <td>NaN</td>\n",
       "      <td>快科技@http://www.kkj.cn/</td>\n",
       "      <td>此前的一加3T搭载的是3400mAh电池，DashCharge快充规格为5V/4A。\\r\\n...</td>\n",
       "      <td>{\"type\":\"科技\",\"site\":\"cnbeta\",\"commentNum\":\"18\"...</td>\n",
       "      <td>一加手机5细节曝光：3300mAh、充半小时用1天</td>\n",
       "      <td>http://www.cnbeta.com/articles/tech/623601.htm</td>\n",
       "    </tr>\n",
       "    <tr>\n",
       "      <th>3</th>\n",
       "      <td>89614</td>\n",
       "      <td>NaN</td>\n",
       "      <td>新华社</td>\n",
       "      <td>这是6月18日在葡萄牙中部大佩德罗冈地区拍摄的被森林大火烧毁的汽车。新华社记者张立云摄\\r\\n</td>\n",
       "      <td>{\"type\":\"国际新闻\",\"site\":\"环球\",\"commentNum\":\"0\",\"j...</td>\n",
       "      <td>葡森林火灾造成至少62人死亡 政府宣布进入紧急状态（组图）</td>\n",
       "      <td>http://world.huanqiu.com/hot/2017-06/10866126....</td>\n",
       "    </tr>\n",
       "    <tr>\n",
       "      <th>4</th>\n",
       "      <td>89613</td>\n",
       "      <td>胡淑丽_MN7479</td>\n",
       "      <td>深圳大件事</td>\n",
       "      <td>（原标题：44岁女子跑深圳约会网友被拒，暴雨中裸身奔走……）\\r\\n@深圳交警微博称：昨日清...</td>\n",
       "      <td>{\"type\":\"新闻\",\"site\":\"网易热门\",\"commentNum\":\"978\",...</td>\n",
       "      <td>44岁女子约网友被拒暴雨中裸奔 交警为其披衣相随</td>\n",
       "      <td>http://news.163.com/17/0618/00/CN617P3Q0001875...</td>\n",
       "    </tr>\n",
       "  </tbody>\n",
       "</table>\n",
       "</div>"
      ],
      "text/plain": [
       "      id      author                  source  \\\n",
       "0  89617         NaN  快科技@http://www.kkj.cn/   \n",
       "1  89616         NaN  快科技@http://www.kkj.cn/   \n",
       "2  89615         NaN  快科技@http://www.kkj.cn/   \n",
       "3  89614         NaN                     新华社   \n",
       "4  89613  胡淑丽_MN7479                   深圳大件事   \n",
       "\n",
       "                                             content  \\\n",
       "0  此外，自本周（6月12日）起，除小米手机6等15款机型外，其余机型已暂停更新发布（含开发版/...   \n",
       "1  骁龙835作为唯一通过Windows 10桌面平台认证的ARM处理器，高通强调，不会因为只考...   \n",
       "2  此前的一加3T搭载的是3400mAh电池，DashCharge快充规格为5V/4A。\\r\\n...   \n",
       "3    这是6月18日在葡萄牙中部大佩德罗冈地区拍摄的被森林大火烧毁的汽车。新华社记者张立云摄\\r\\n   \n",
       "4  （原标题：44岁女子跑深圳约会网友被拒，暴雨中裸身奔走……）\\r\\n@深圳交警微博称：昨日清...   \n",
       "\n",
       "                                             feature  \\\n",
       "0  {\"type\":\"科技\",\"site\":\"cnbeta\",\"commentNum\":\"37\"...   \n",
       "1  {\"type\":\"科技\",\"site\":\"cnbeta\",\"commentNum\":\"15\"...   \n",
       "2  {\"type\":\"科技\",\"site\":\"cnbeta\",\"commentNum\":\"18\"...   \n",
       "3  {\"type\":\"国际新闻\",\"site\":\"环球\",\"commentNum\":\"0\",\"j...   \n",
       "4  {\"type\":\"新闻\",\"site\":\"网易热门\",\"commentNum\":\"978\",...   \n",
       "\n",
       "                           title  \\\n",
       "0           小米MIUI 9首批机型曝光：共计15款   \n",
       "1     骁龙835在Windows 10上的性能表现有望改善   \n",
       "2      一加手机5细节曝光：3300mAh、充半小时用1天   \n",
       "3  葡森林火灾造成至少62人死亡 政府宣布进入紧急状态（组图）   \n",
       "4       44岁女子约网友被拒暴雨中裸奔 交警为其披衣相随   \n",
       "\n",
       "                                                 url  \n",
       "0     http://www.cnbeta.com/articles/tech/623597.htm  \n",
       "1     http://www.cnbeta.com/articles/tech/623599.htm  \n",
       "2     http://www.cnbeta.com/articles/tech/623601.htm  \n",
       "3  http://world.huanqiu.com/hot/2017-06/10866126....  \n",
       "4  http://news.163.com/17/0618/00/CN617P3Q0001875...  "
      ]
     },
     "execution_count": 251,
     "metadata": {},
     "output_type": "execute_result"
    }
   ],
   "source": [
    "import pandas as pd\n",
    "dataframe = pd.read_csv(database,encoding='gb18030')\n",
    "dataframe.head()"
   ]
  },
  {
   "cell_type": "code",
   "execution_count": 245,
   "metadata": {},
   "outputs": [
    {
     "data": {
      "text/plain": [
       "['此外，自本周（6月12日）起，除小米手机6等15款机型外，其余机型已暂停更新发布（含开发版/体验版内测，稳定版暂不受影响），以确保工程师可以集中全部精力进行系统优化工作。有人猜测这也是将精力主要用到MIUI 9的研发之中。\\r\\nMIUI 8去年5月发布，距今已有一年有余，也是时候更新换代了。\\r\\n当然，关于MIUI 9的确切信息，我们还是等待官方消息。\\r\\n']"
      ]
     },
     "execution_count": 245,
     "metadata": {},
     "output_type": "execute_result"
    }
   ],
   "source": [
    "all_articles = dataframe['content'].tolist()#tolist()将矩阵转换为一个以列表为元素的列表\n",
    "all_articles[:1]"
   ]
  },
  {
   "cell_type": "markdown",
   "metadata": {},
   "source": [
    "# 2.去除非法字符（invalid，无效）\n",
    "观察数据可以发现语料中存在一些无效字符，如\\r \\n \\u3000 \\u3000，可以使用正则表达式去掉；"
   ]
  },
  {
   "cell_type": "code",
   "execution_count": 254,
   "metadata": {},
   "outputs": [],
   "source": [
    "import re"
   ]
  },
  {
   "cell_type": "code",
   "execution_count": 255,
   "metadata": {},
   "outputs": [],
   "source": [
    "def token(string):\n",
    "    return ' '.join(re.findall('[\\w|\\d]+', string))"
   ]
  },
  {
   "cell_type": "code",
   "execution_count": 257,
   "metadata": {},
   "outputs": [
    {
     "data": {
      "text/plain": [
       "'6月21日 A股纳入MSCI指数尘埃落定 但当天被寄予厚望的券商股并未扛起反弹大旗 22日 在222只纳入MSCI指数的A股股票中 银行股全线飘红'"
      ]
     },
     "execution_count": 257,
     "metadata": {},
     "output_type": "execute_result"
    }
   ],
   "source": [
    "token('\\u3000\\u30006月21日，A股纳入MSCI指数尘埃落定，但当天被寄予厚望的券商股并未扛起反弹大旗。22日，在222只纳入MSCI指数的A股股票中，银行股全线飘红')"
   ]
  },
  {
   "cell_type": "code",
   "execution_count": 258,
   "metadata": {},
   "outputs": [
    {
     "data": {
      "text/plain": [
       "['此外 自本周 6月12日 起 除小米手机6等15款机型外 其余机型已暂停更新发布 含开发版 体验版内测 稳定版暂不受影响 以确保工程师可以集中全部精力进行系统优化工作 有人猜测这也是将精力主要用到MIUI 9的研发之中 MIUI 8去年5月发布 距今已有一年有余 也是时候更新换代了 当然 关于MIUI 9的确切信息 我们还是等待官方消息']"
      ]
     },
     "execution_count": 258,
     "metadata": {},
     "output_type": "execute_result"
    }
   ],
   "source": [
    "all_articles = [token(str(a)) for a in all_articles]\n",
    "all_articles[:1]"
   ]
  },
  {
   "cell_type": "code",
   "execution_count": 259,
   "metadata": {},
   "outputs": [
    {
     "name": "stdout",
     "output_type": "stream",
     "text": [
      "length of TEXT:37412506\n"
     ]
    }
   ],
   "source": [
    "#去掉空格\n",
    "TEXT = ''\n",
    "for a in all_articles:\n",
    "    TEXT += a\n",
    "print('length of TEXT:{}'.format(len(TEXT)))"
   ]
  },
  {
   "cell_type": "markdown",
   "metadata": {},
   "source": [
    "# reduce 方法"
   ]
  },
  {
   "cell_type": "code",
   "execution_count": 260,
   "metadata": {},
   "outputs": [],
   "source": [
    "from functools import reduce\n",
    "text_from_reduce = reduce(lambda a1, a2: a1 + a2, all_articles[:100])"
   ]
  },
  {
   "cell_type": "markdown",
   "metadata": {},
   "source": [
    "# 正则表达式Note\n",
    "地址：https://regexone.com/"
   ]
  },
  {
   "cell_type": "code",
   "execution_count": 263,
   "metadata": {},
   "outputs": [],
   "source": [
    "string = '90120 &*&*&* this is a BIG thing BI'"
   ]
  },
  {
   "cell_type": "code",
   "execution_count": 264,
   "metadata": {},
   "outputs": [],
   "source": [
    "pattern = 'BIG*'"
   ]
  },
  {
   "cell_type": "code",
   "execution_count": 265,
   "metadata": {},
   "outputs": [
    {
     "data": {
      "text/plain": [
       "['BIG', 'BI']"
      ]
     },
     "execution_count": 265,
     "metadata": {},
     "output_type": "execute_result"
    }
   ],
   "source": [
    "re.findall(pattern, string)"
   ]
  },
  {
   "cell_type": "code",
   "execution_count": null,
   "metadata": {},
   "outputs": [],
   "source": [
    "pattern = '\\w+'"
   ]
  },
  {
   "cell_type": "code",
   "execution_count": 266,
   "metadata": {},
   "outputs": [
    {
     "data": {
      "text/plain": [
       "['BIG', 'BI']"
      ]
     },
     "execution_count": 266,
     "metadata": {},
     "output_type": "execute_result"
    }
   ],
   "source": [
    "re.findall(pattern, string)"
   ]
  },
  {
   "cell_type": "markdown",
   "metadata": {},
   "source": [
    "# Get all tokens"
   ]
  },
  {
   "cell_type": "code",
   "execution_count": 267,
   "metadata": {},
   "outputs": [],
   "source": [
    "import jieba"
   ]
  },
  {
   "cell_type": "code",
   "execution_count": 268,
   "metadata": {},
   "outputs": [],
   "source": [
    "def cut(string):\n",
    "    return list(jieba.cut(string))"
   ]
  },
  {
   "cell_type": "code",
   "execution_count": 269,
   "metadata": {},
   "outputs": [
    {
     "data": {
      "text/plain": [
       "['这是', '一个', '测试']"
      ]
     },
     "execution_count": 269,
     "metadata": {},
     "output_type": "execute_result"
    }
   ],
   "source": [
    "cut('这是一个测试')"
   ]
  },
  {
   "cell_type": "code",
   "execution_count": 270,
   "metadata": {},
   "outputs": [],
   "source": [
    "ALL_TOKENS = cut(TEXT)"
   ]
  },
  {
   "cell_type": "code",
   "execution_count": 271,
   "metadata": {},
   "outputs": [
    {
     "data": {
      "text/plain": [
       "['此外',\n",
       " ' ',\n",
       " '自',\n",
       " '本周',\n",
       " ' ',\n",
       " '6',\n",
       " '月',\n",
       " '12',\n",
       " '日',\n",
       " ' ',\n",
       " '起',\n",
       " ' ',\n",
       " '除',\n",
       " '小米',\n",
       " '手机',\n",
       " '6',\n",
       " '等',\n",
       " '15',\n",
       " '款',\n",
       " '机型']"
      ]
     },
     "execution_count": 271,
     "metadata": {},
     "output_type": "execute_result"
    }
   ],
   "source": [
    "ALL_TOKENS[:20]"
   ]
  },
  {
   "cell_type": "markdown",
   "metadata": {},
   "source": [
    "# 去除空格\n",
    "后序检查词频中发现遗漏特殊字符n；"
   ]
  },
  {
   "cell_type": "code",
   "execution_count": 272,
   "metadata": {},
   "outputs": [],
   "source": [
    "valid_tokens = [t for t in ALL_TOKENS if t.strip() and  t != 'n']"
   ]
  },
  {
   "cell_type": "code",
   "execution_count": 273,
   "metadata": {},
   "outputs": [
    {
     "data": {
      "text/plain": [
       "17221785"
      ]
     },
     "execution_count": 273,
     "metadata": {},
     "output_type": "execute_result"
    }
   ],
   "source": [
    "len(valid_tokens)"
   ]
  },
  {
   "cell_type": "code",
   "execution_count": 274,
   "metadata": {
    "scrolled": true
   },
   "outputs": [
    {
     "data": {
      "text/plain": [
       "['此外',\n",
       " '自',\n",
       " '本周',\n",
       " '6',\n",
       " '月',\n",
       " '12',\n",
       " '日',\n",
       " '起',\n",
       " '除',\n",
       " '小米',\n",
       " '手机',\n",
       " '6',\n",
       " '等',\n",
       " '15',\n",
       " '款',\n",
       " '机型',\n",
       " '外',\n",
       " '其余',\n",
       " '机型',\n",
       " '已']"
      ]
     },
     "execution_count": 274,
     "metadata": {},
     "output_type": "execute_result"
    }
   ],
   "source": [
    "valid_tokens[:20]"
   ]
  },
  {
   "cell_type": "markdown",
   "metadata": {},
   "source": [
    "# Get the frequence of words"
   ]
  },
  {
   "cell_type": "code",
   "execution_count": 280,
   "metadata": {},
   "outputs": [],
   "source": [
    "from collections import Counter"
   ]
  },
  {
   "cell_type": "code",
   "execution_count": 281,
   "metadata": {},
   "outputs": [
    {
     "data": {
      "text/plain": [
       "Counter({0: 1, 1: 1, 2: 1, 3: 1})"
      ]
     },
     "execution_count": 281,
     "metadata": {},
     "output_type": "execute_result"
    }
   ],
   "source": [
    "Counter({1, 1, 2, 2, 2, 3, 1, 0})"
   ]
  },
  {
   "cell_type": "code",
   "execution_count": 282,
   "metadata": {},
   "outputs": [],
   "source": [
    "words_count = Counter(valid_tokens)"
   ]
  },
  {
   "cell_type": "code",
   "execution_count": 283,
   "metadata": {},
   "outputs": [
    {
     "data": {
      "text/plain": [
       "[('的', 703820),\n",
       " ('在', 264633),\n",
       " ('月', 189525),\n",
       " ('日', 169920),\n",
       " ('新华社', 142462),\n",
       " ('和', 134220),\n",
       " ('年', 123531),\n",
       " ('了', 121904),\n",
       " ('是', 100288),\n",
       " ('１', 88187)]"
      ]
     },
     "execution_count": 283,
     "metadata": {},
     "output_type": "execute_result"
    }
   ],
   "source": [
    "words_count.most_common(10)"
   ]
  },
  {
   "cell_type": "markdown",
   "metadata": {},
   "source": [
    "# 单词的频率分布"
   ]
  },
  {
   "cell_type": "code",
   "execution_count": 284,
   "metadata": {},
   "outputs": [],
   "source": [
    "frequences = [f for w, f in words_count.most_common(100)]"
   ]
  },
  {
   "cell_type": "code",
   "execution_count": 285,
   "metadata": {},
   "outputs": [],
   "source": [
    "x = [i for i in range(len(frequences))]"
   ]
  },
  {
   "cell_type": "code",
   "execution_count": 286,
   "metadata": {},
   "outputs": [
    {
     "data": {
      "text/plain": [
       "100"
      ]
     },
     "execution_count": 286,
     "metadata": {},
     "output_type": "execute_result"
    }
   ],
   "source": [
    "len(frequences)"
   ]
  },
  {
   "cell_type": "code",
   "execution_count": 287,
   "metadata": {},
   "outputs": [
    {
     "data": {
      "text/plain": [
       "[<matplotlib.lines.Line2D at 0x2183e1dd8>]"
      ]
     },
     "execution_count": 287,
     "metadata": {},
     "output_type": "execute_result"
    },
    {
     "data": {
      "image/png": "[encoded data removed]",
      "text/plain": [
       "<Figure size 432x288 with 1 Axes>"
      ]
     },
     "metadata": {
      "needs_background": "light"
     },
     "output_type": "display_data"
    }
   ],
   "source": [
    "plt.plot(x, frequences)"
   ]
  },
  {
   "cell_type": "markdown",
   "metadata": {},
   "source": [
    "# 使用log分布放大原有词频分布"
   ]
  },
  {
   "cell_type": "code",
   "execution_count": 288,
   "metadata": {},
   "outputs": [
    {
     "data": {
      "text/plain": [
       "[<matplotlib.lines.Line2D at 0x213ad2898>]"
      ]
     },
     "execution_count": 288,
     "metadata": {},
     "output_type": "execute_result"
    },
    {
     "data": {
      "image/png": "[encoded data removed]",
      "text/plain": [
       "<Figure size 432x288 with 1 Axes>"
      ]
     },
     "metadata": {
      "needs_background": "light"
     },
     "output_type": "display_data"
    }
   ],
   "source": [
    "import numpy as np\n",
    "plt.plot(x, np.log(frequences))"
   ]
  },
  {
   "cell_type": "markdown",
   "metadata": {},
   "source": [
    "# 统计每个词的概率"
   ]
  },
  {
   "cell_type": "code",
   "execution_count": 289,
   "metadata": {},
   "outputs": [],
   "source": [
    "frequences_all = [f for w, f in words_count.most_common()]"
   ]
  },
  {
   "cell_type": "code",
   "execution_count": 290,
   "metadata": {},
   "outputs": [],
   "source": [
    "frequences_sum = sum(frequences_all)"
   ]
  },
  {
   "cell_type": "code",
   "execution_count": 291,
   "metadata": {},
   "outputs": [
    {
     "data": {
      "text/plain": [
       "17221785"
      ]
     },
     "execution_count": 291,
     "metadata": {},
     "output_type": "execute_result"
    }
   ],
   "source": [
    "frequences_sum"
   ]
  },
  {
   "cell_type": "code",
   "execution_count": 292,
   "metadata": {},
   "outputs": [],
   "source": [
    "#获得一个单词在词库中出现的概率\n",
    "def get_prob(word):\n",
    "    esp = 1 / frequences_sum\n",
    "    if word in words_count:\n",
    "        return words_count[word] / frequences_sum\n",
    "    return esp"
   ]
  },
  {
   "cell_type": "code",
   "execution_count": 293,
   "metadata": {},
   "outputs": [
    {
     "data": {
      "text/plain": [
       "0.0011602746172943166"
      ]
     },
     "execution_count": 293,
     "metadata": {},
     "output_type": "execute_result"
    }
   ],
   "source": [
    "get_prob('我们')"
   ]
  },
  {
   "cell_type": "markdown",
   "metadata": {},
   "source": [
    "# 句子的概率等于所有单词出现的概率之和，这里假设单词之间相互独立"
   ]
  },
  {
   "cell_type": "code",
   "execution_count": 294,
   "metadata": {},
   "outputs": [],
   "source": [
    "#计算numbers中所有元素累乘\n",
    "def product(numbers):\n",
    "    return reduce(lambda n1, n2: n1 * n2, numbers)"
   ]
  },
  {
   "cell_type": "code",
   "execution_count": 295,
   "metadata": {},
   "outputs": [
    {
     "data": {
      "text/plain": [
       "240"
      ]
     },
     "execution_count": 295,
     "metadata": {},
     "output_type": "execute_result"
    }
   ],
   "source": [
    "product([1, 2, 3, 4, 10])"
   ]
  },
  {
   "cell_type": "code",
   "execution_count": 297,
   "metadata": {},
   "outputs": [],
   "source": [
    "#one_gram将每个单词出现的概率累乘\n",
    "def language_model_one_gram(string):\n",
    "    words = cut(string)\n",
    "    return product([get_prob(w) for w in words])"
   ]
  },
  {
   "cell_type": "code",
   "execution_count": 298,
   "metadata": {},
   "outputs": [
    {
     "data": {
      "text/plain": [
       "1.4093284706718309e-14"
      ]
     },
     "execution_count": 298,
     "metadata": {},
     "output_type": "execute_result"
    }
   ],
   "source": [
    "language_model_one_gram('广交会下个月举办')"
   ]
  },
  {
   "cell_type": "code",
   "execution_count": 299,
   "metadata": {},
   "outputs": [
    {
     "data": {
      "text/plain": [
       "1.0458111049344169e-22"
      ]
     },
     "execution_count": 299,
     "metadata": {},
     "output_type": "execute_result"
    }
   ],
   "source": [
    "language_model_one_gram('这是一种常见的诈骗手法')"
   ]
  },
  {
   "cell_type": "code",
   "execution_count": 300,
   "metadata": {},
   "outputs": [],
   "source": [
    "sentences = \"\"\"\n",
    "这是一个比较正常的句子\n",
    "这是一个比较罕见的句子\n",
    "小明毕业于清华大学\n",
    "小明毕业于秦华大学\n",
    "\"\"\".split()"
   ]
  },
  {
   "cell_type": "code",
   "execution_count": 301,
   "metadata": {},
   "outputs": [
    {
     "name": "stdout",
     "output_type": "stream",
     "text": [
      "这是一个比较正常的句子 7.429984647015532e-22\n",
      "这是一个比较罕见的句子 2.295126147507416e-22\n",
      "小明毕业于清华大学 3.039960976514903e-18\n",
      "小明毕业于秦华大学 5.813337476916057e-24\n"
     ]
    }
   ],
   "source": [
    "for s in sentences:\n",
    "    print(s, language_model_one_gram(s))"
   ]
  },
  {
   "cell_type": "markdown",
   "metadata": {},
   "source": [
    "# 对比不同的句子，检查频率"
   ]
  },
  {
   "cell_type": "code",
   "execution_count": 302,
   "metadata": {},
   "outputs": [
    {
     "name": "stdout",
     "output_type": "stream",
     "text": [
      "明天晚上请你吃大餐，我们一起吃苹果 is more possible\n",
      "----今天晚上请你吃大餐，我们一起吃日料 with probility 6.279484454158278e-50\n",
      "----明天晚上请你吃大餐，我们一起吃苹果 with probility 5.1533768284792506e-48\n",
      "真是一只好看的小猫 is more possible\n",
      "----真事一只好看的小猫 with probility 2.873219522813593e-25\n",
      "----真是一只好看的小猫 with probility 1.0935351206452033e-21\n",
      "今晚我去吃火锅 is more possible\n",
      "----我去吃火锅，今晚 with probility 6.876097222574346e-26\n",
      "----今晚我去吃火锅 with probility 1.1841866800627252e-18\n"
     ]
    }
   ],
   "source": [
    "need_compared = [\n",
    "    \"今天晚上请你吃大餐，我们一起吃日料 明天晚上请你吃大餐，我们一起吃苹果\",\n",
    "    \"真事一只好看的小猫 真是一只好看的小猫\",\n",
    "    \"我去吃火锅，今晚 今晚我去吃火锅\"\n",
    "]\n",
    "\n",
    "for s in need_compared:\n",
    "    s1, s2 = s.split()\n",
    "    p1, p2 = language_model_one_gram(s1), language_model_one_gram(s2)\n",
    "    better =  s1 if p1 > p2 else s2\n",
    "    print('{} is more possible'.format(better))\n",
    "    print('-'*4 + '{} with probility {}'.format(s1, p1))\n",
    "    print('-'*4 + '{} with probility {}'.format(s2, p2))"
   ]
  },
  {
   "cell_type": "markdown",
   "metadata": {},
   "source": [
    "# 2-Gram"
   ]
  },
  {
   "cell_type": "code",
   "execution_count": 306,
   "metadata": {},
   "outputs": [],
   "source": [
    "valid_tokens = [str(t) for t in valid_tokens]"
   ]
  },
  {
   "cell_type": "code",
   "execution_count": 307,
   "metadata": {},
   "outputs": [],
   "source": [
    "#将相近的两个分词组合，放入all_2_grams_words\n",
    "all_2_grams_words = [''.join(valid_tokens[i:i+2]) for i in range(len(valid_tokens[:-2]))]"
   ]
  },
  {
   "cell_type": "code",
   "execution_count": 308,
   "metadata": {},
   "outputs": [],
   "source": [
    "_2_gram_sum = len(all_2_grams_words)\n",
    "_2_gram_counter = Counter(all_2_grams_words)#创建一个无序计数器，跟踪每个单词出现的次数\n",
    "#获得w1,w2两个词在库中出现的概率\n",
    "def get_combination_prob(w1, w2):\n",
    "    if w1 + w2 in _2_gram_counter:\n",
    "        return _2_gram_counter[w1+w2] / _2_gram_sum;\n",
    "    else:\n",
    "        return 1 / _2_gram_sum"
   ]
  },
  {
   "cell_type": "code",
   "execution_count": 309,
   "metadata": {},
   "outputs": [
    {
     "data": {
      "text/plain": [
       "1.8000459069772276e-06"
      ]
     },
     "execution_count": 309,
     "metadata": {},
     "output_type": "execute_result"
    }
   ],
   "source": [
    "get_combination_prob('去', '北京')"
   ]
  },
  {
   "cell_type": "code",
   "execution_count": 310,
   "metadata": {},
   "outputs": [
    {
     "data": {
      "text/plain": [
       "2.9032998499632703e-07"
      ]
     },
     "execution_count": 310,
     "metadata": {},
     "output_type": "execute_result"
    }
   ],
   "source": [
    "get_combination_prob('去','沈阳')"
   ]
  },
  {
   "cell_type": "code",
   "execution_count": 313,
   "metadata": {},
   "outputs": [],
   "source": [
    "#from icecream import ic#ic在程序出现错误时使用"
   ]
  },
  {
   "cell_type": "code",
   "execution_count": 314,
   "metadata": {},
   "outputs": [],
   "source": [
    "#2_gram公式\n",
    "def get_prob_2_gram(w1, w2):\n",
    "    return  get_combination_prob(w1, w2) / get_prob(w1)"
   ]
  },
  {
   "cell_type": "code",
   "execution_count": 315,
   "metadata": {},
   "outputs": [],
   "source": [
    "#使用2_gram公式获得一个句子的概率\n",
    "def language_model_of_2_gram(sentence):\n",
    "    sentence_probability = 1\n",
    "    words = cut(sentence)\n",
    "    for i, word in enumerate(words):\n",
    "#enumerate() 函数用于将一个可遍历的数据对象(如列表、元组或字符串)组合为一个索引序列，同时列出数据和数据下标，一般用在 for 循环当中。\n",
    "        if i == 0:\n",
    "            prob = get_prob(word)\n",
    "        else:\n",
    "            previous = words[i-1]\n",
    "            prob = get_prob_2_gram(previous, word)\n",
    "        sentence_probability *= prob\n",
    "    return sentence_probability"
   ]
  },
  {
   "cell_type": "code",
   "execution_count": 316,
   "metadata": {},
   "outputs": [
    {
     "data": {
      "text/plain": [
       "4.5133725473313174e-18"
      ]
     },
     "execution_count": 316,
     "metadata": {},
     "output_type": "execute_result"
    }
   ],
   "source": [
    "language_model_of_2_gram('小明今天抽奖抽到一台苹果手机')"
   ]
  },
  {
   "cell_type": "code",
   "execution_count": 317,
   "metadata": {},
   "outputs": [
    {
     "data": {
      "text/plain": [
       "3.9724842499924055e-18"
      ]
     },
     "execution_count": 317,
     "metadata": {},
     "output_type": "execute_result"
    }
   ],
   "source": [
    "language_model_of_2_gram('小明今天抽奖抽到一台波音飞机')"
   ]
  },
  {
   "cell_type": "markdown",
   "metadata": {},
   "source": [
    "# Review the problem using 2-gram"
   ]
  },
  {
   "cell_type": "code",
   "execution_count": 318,
   "metadata": {},
   "outputs": [
    {
     "name": "stdout",
     "output_type": "stream",
     "text": [
      "今天晚上请你吃大餐，我们一起吃日料 is more possible\n",
      "---- 今天晚上请你吃大餐，我们一起吃日料 with probility 6.895905640955031e-28\n",
      "---- 明天晚上请你吃大餐，我们一起吃苹果 with probility 5.516724512764024e-28\n",
      "真是一只好看的小猫 is more possible\n",
      "---- 真事一只好看的小猫 with probility 1.6570998748154123e-19\n",
      "---- 真是一只好看的小猫 with probility 3.4765951336188093e-16\n",
      "我去吃火锅，今晚 is more possible\n",
      "---- 我去吃火锅，今晚 with probility 1.0580832733738627e-10\n",
      "---- 今晚火锅去吃我 with probility 9.986004768787415e-16\n",
      "养乐多绿来一杯 is more possible\n",
      "---- 洋葱奶昔来一杯 with probility 1.0579577386518395e-12\n",
      "---- 养乐多绿来一杯 with probility 5.806600374258542e-08\n"
     ]
    }
   ],
   "source": [
    "need_compared = [\n",
    "    \"今天晚上请你吃大餐，我们一起吃日料 明天晚上请你吃大餐，我们一起吃苹果\",\n",
    "    \"真事一只好看的小猫 真是一只好看的小猫\",\n",
    "    \"我去吃火锅，今晚  今晚火锅去吃我\",\n",
    "    \"洋葱奶昔来一杯 养乐多绿来一杯\"\n",
    "]\n",
    "\n",
    "for s in need_compared:\n",
    "    s1, s2 = s.split()\n",
    "    p1, p2 = language_model_of_2_gram(s1), language_model_of_2_gram(s2)\n",
    "    better = s1 if p1 > p2 else s2\n",
    "    \n",
    "    print('{} is more possible'.format(better))\n",
    "    print('-'*4 + ' {} with probility {}'.format(s1, p1))\n",
    "    print('-'*4 + ' {} with probility {}'.format(s2, p2))\n"
   ]
  },
  {
   "cell_type": "markdown",
   "metadata": {},
   "source": [
    "# 基于规则生成句子的例子增加概率判断"
   ]
  },
  {
   "cell_type": "code",
   "execution_count": 319,
   "metadata": {},
   "outputs": [],
   "source": [
    "grammar = \"\"\"\n",
    "sentence => noun_phrase verb_phrase \n",
    "noun_phrase => Article Adj* noun belong \n",
    "belong => de property\n",
    "de => 的\n",
    "property => 眼睛 | 裙子 | 胳膊 | 尾巴\n",
    "Adj* => null | Adj Adj*\n",
    "verb_phrase => verb noun_phrase\n",
    "Article =>  一个 | 这个\n",
    "noun =>   女人 |  篮球 | 桌子 | 小猫\n",
    "verb => 看着   |  坐在 |  听着 | 看见\n",
    "Adj =>   蓝色的 |  好看的 | 小小的\n",
    "\"\"\""
   ]
  },
  {
   "cell_type": "code",
   "execution_count": 320,
   "metadata": {},
   "outputs": [],
   "source": [
    "import random\n",
    "#获得词性字典grammar\n",
    "def parse_grammar(gramamar_str, sep='=>'):\n",
    "    grammar = {}\n",
    "    for line in gramamar_str.split('\\n'):\n",
    "        line = line.strip()\n",
    "        if not line:\n",
    "            continue\n",
    "        target, rules = line.split(sep)\n",
    "        grammar[target.strip()] = [r.split() for r in rules.split('|')]\n",
    "    return grammar"
   ]
  },
  {
   "cell_type": "code",
   "execution_count": 324,
   "metadata": {},
   "outputs": [],
   "source": [
    "def gene(grammar_parsed, target='sentence'):\n",
    "    if target not in grammar_parsed:\n",
    "        return target\n",
    "    \n",
    "    rule = random.choice(grammar_parsed[target])\n",
    "    return ''.join(gene(grammar_parsed, target=r) for r in rule if r != 'null')"
   ]
  },
  {
   "cell_type": "code",
   "execution_count": 325,
   "metadata": {},
   "outputs": [],
   "source": [
    "g = parse_grammar(grammar)"
   ]
  },
  {
   "cell_type": "code",
   "execution_count": 326,
   "metadata": {},
   "outputs": [],
   "source": [
    "random_generated = [gene(g) for _ in range(100)]"
   ]
  },
  {
   "cell_type": "code",
   "execution_count": 327,
   "metadata": {},
   "outputs": [
    {
     "data": {
      "text/plain": [
       "['一个女人的尾巴坐在一个桌子的眼睛',\n",
       " '一个篮球的眼睛看着这个女人的胳膊',\n",
       " '一个篮球的眼睛看着这个桌子的眼睛',\n",
       " '这个女人的尾巴坐在一个篮球的眼睛',\n",
       " '这个女人的裙子坐在一个小小的小猫的眼睛',\n",
       " '这个桌子的尾巴看见这个桌子的胳膊',\n",
       " '一个篮球的裙子坐在一个女人的裙子',\n",
       " '一个女人的胳膊看着一个小猫的尾巴',\n",
       " '这个小猫的胳膊看着这个小小的桌子的眼睛',\n",
       " '这个女人的胳膊听着这个小猫的眼睛',\n",
       " '一个篮球的裙子看见这个篮球的眼睛',\n",
       " '一个桌子的裙子看见这个小猫的尾巴',\n",
       " '一个桌子的裙子听着一个女人的尾巴',\n",
       " '这个小猫的裙子看见一个桌子的裙子',\n",
       " '这个篮球的眼睛坐在一个小猫的胳膊',\n",
       " '这个女人的尾巴听着这个小猫的胳膊',\n",
       " '这个桌子的裙子看见一个篮球的裙子',\n",
       " '一个桌子的胳膊听着一个篮球的眼睛',\n",
       " '这个女人的尾巴听着这个小小的桌子的眼睛',\n",
       " '这个小猫的裙子看着一个篮球的胳膊',\n",
       " '这个篮球的胳膊坐在这个小猫的裙子',\n",
       " '这个小小的女人的眼睛听着这个女人的裙子',\n",
       " '这个桌子的眼睛听着这个桌子的尾巴',\n",
       " '一个小小的桌子的尾巴坐在这个小猫的裙子',\n",
       " '一个小小的桌子的胳膊听着一个桌子的胳膊',\n",
       " '一个桌子的裙子坐在这个小小的桌子的裙子',\n",
       " '一个小小的桌子的尾巴看着一个桌子的裙子',\n",
       " '一个小猫的眼睛听着一个小猫的尾巴',\n",
       " '这个篮球的眼睛看着一个篮球的尾巴',\n",
       " '这个小小的篮球的胳膊坐在一个小小的女人的尾巴',\n",
       " '一个小小的小小的女人的胳膊坐在一个桌子的尾巴',\n",
       " '一个小小的桌子的尾巴听着一个小猫的裙子',\n",
       " '这个女人的裙子坐在这个蓝色的女人的眼睛',\n",
       " '这个蓝色的女人的尾巴看着这个女人的裙子',\n",
       " '这个蓝色的女人的眼睛看见一个桌子的眼睛',\n",
       " '一个好看的小猫的尾巴看见一个女人的尾巴',\n",
       " '这个蓝色的小猫的眼睛看着这个女人的尾巴',\n",
       " '这个女人的裙子看着这个好看的篮球的尾巴',\n",
       " '这个好看的桌子的尾巴坐在这个女人的眼睛',\n",
       " '这个好看的篮球的眼睛看见一个女人的裙子',\n",
       " '这个桌子的眼睛看着一个小小的小小的小猫的裙子',\n",
       " '一个好看的女人的胳膊坐在一个小猫的裙子',\n",
       " '这个蓝色的女人的胳膊看见一个小小的桌子的裙子',\n",
       " '一个女人的尾巴听着一个蓝色的桌子的胳膊',\n",
       " '一个篮球的胳膊看见一个好看的小猫的尾巴',\n",
       " '这个蓝色的小猫的尾巴看着这个篮球的尾巴',\n",
       " '一个小小的小小的小小的桌子的裙子看着一个小猫的胳膊',\n",
       " '这个桌子的胳膊听着这个蓝色的桌子的眼睛',\n",
       " '这个小猫的胳膊坐在这个好看的桌子的裙子',\n",
       " '这个桌子的裙子看着一个小小的小小的小小的篮球的胳膊',\n",
       " '这个小小的好看的桌子的裙子听着一个女人的胳膊',\n",
       " '这个好看的小猫的眼睛看着一个小猫的尾巴',\n",
       " '一个好看的篮球的眼睛听着一个篮球的胳膊',\n",
       " '这个好看的小猫的尾巴听着一个篮球的胳膊',\n",
       " '这个蓝色的小猫的裙子听着这个桌子的尾巴',\n",
       " '一个桌子的胳膊听着一个小小的好看的桌子的胳膊',\n",
       " '一个篮球的裙子听着一个好看的篮球的裙子',\n",
       " '一个小小的小猫的胳膊听着这个好看的桌子的胳膊',\n",
       " '这个好看的小小的女人的胳膊看着这个篮球的尾巴',\n",
       " '这个女人的眼睛看见这个好看的蓝色的小猫的裙子',\n",
       " '一个小猫的尾巴听着这个好看的小小的桌子的眼睛',\n",
       " '这个桌子的裙子看见这个好看的蓝色的桌子的尾巴',\n",
       " '这个好看的女人的眼睛坐在一个蓝色的小猫的尾巴',\n",
       " '这个好看的小小的篮球的眼睛看着一个小猫的胳膊',\n",
       " '一个好看的桌子的裙子看见这个蓝色的篮球的胳膊',\n",
       " '一个桌子的裙子看见一个蓝色的好看的女人的胳膊',\n",
       " '这个蓝色的桌子的胳膊看见一个好看的桌子的胳膊',\n",
       " '这个桌子的尾巴坐在一个蓝色的好看的女人的胳膊',\n",
       " '这个小猫的尾巴坐在一个好看的好看的桌子的眼睛',\n",
       " '这个小小的好看的篮球的胳膊看见一个好看的女人的裙子',\n",
       " '这个小猫的尾巴听着一个蓝色的小小的篮球的胳膊',\n",
       " '这个蓝色的蓝色的桌子的眼睛坐在一个篮球的胳膊',\n",
       " '这个小小的好看的好看的小猫的胳膊看着这个小猫的胳膊',\n",
       " '一个小小的女人的裙子看见这个小小的小小的好看的小小的小猫的裙子',\n",
       " '一个小小的女人的尾巴看见这个小小的蓝色的好看的篮球的胳膊',\n",
       " '这个小猫的眼睛看见一个好看的小小的蓝色的女人的尾巴',\n",
       " '一个篮球的尾巴听着这个蓝色的好看的女人的裙子',\n",
       " '一个小小的好看的篮球的裙子听着这个好看的小猫的裙子',\n",
       " '一个好看的女人的眼睛坐在这个好看的蓝色的女人的尾巴',\n",
       " '这个小猫的胳膊看着一个蓝色的蓝色的小小的小猫的胳膊',\n",
       " '这个小小的蓝色的好看的小猫的尾巴看见这个小小的小小的小猫的眼睛',\n",
       " '一个蓝色的小小的篮球的裙子坐在这个好看的小猫的裙子',\n",
       " '这个蓝色的小小的桌子的尾巴听着一个小小的蓝色的女人的尾巴',\n",
       " '这个蓝色的小小的篮球的裙子坐在这个好看的篮球的尾巴',\n",
       " '这个篮球的尾巴听着这个小小的蓝色的蓝色的蓝色的女人的眼睛',\n",
       " '这个女人的尾巴看着一个蓝色的好看的好看的小猫的眼睛',\n",
       " '一个蓝色的蓝色的蓝色的蓝色的女人的眼睛看着这个小猫的眼睛',\n",
       " '这个篮球的胳膊看着一个好看的好看的好看的桌子的眼睛',\n",
       " '一个小小的小小的好看的小小的好看的篮球的胳膊坐在一个篮球的尾巴',\n",
       " '这个蓝色的桌子的胳膊听着一个好看的好看的桌子的裙子',\n",
       " '这个小猫的裙子听着这个好看的蓝色的小小的好看的女人的裙子',\n",
       " '这个小猫的裙子听着这个好看的蓝色的蓝色的蓝色的女人的尾巴',\n",
       " '这个蓝色的小小的小猫的胳膊坐在这个蓝色的好看的篮球的裙子',\n",
       " '这个蓝色的好看的小猫的胳膊看见这个蓝色的好看的女人的尾巴',\n",
       " '一个小小的好看的小猫的尾巴听着这个蓝色的蓝色的蓝色的桌子的眼睛',\n",
       " '这个蓝色的好看的蓝色的女人的裙子听着这个好看的桌子的胳膊',\n",
       " '一个篮球的胳膊坐在一个蓝色的蓝色的好看的小小的小小的小猫的胳膊',\n",
       " '这个小猫的胳膊看着一个好看的蓝色的好看的小小的蓝色的小小的女人的眼睛',\n",
       " '一个蓝色的小小的小小的好看的好看的好看的小猫的眼睛看着这个小猫的胳膊',\n",
       " '这个好看的好看的女人的眼睛看见一个蓝色的蓝色的小小的蓝色的小小的小小的好看的好看的蓝色的篮球的眼睛']"
      ]
     },
     "execution_count": 327,
     "metadata": {},
     "output_type": "execute_result"
    }
   ],
   "source": [
    "sorted(random_generated, key=language_model_of_2_gram, reverse=True)"
   ]
  },
  {
   "cell_type": "code",
   "execution_count": null,
   "metadata": {},
   "outputs": [],
   "source": []
  },
  {
   "cell_type": "code",
   "execution_count": null,
   "metadata": {},
   "outputs": [],
   "source": []
  },
  {
   "cell_type": "code",
   "execution_count": null,
   "metadata": {},
   "outputs": [],
   "source": []
  },
  {
   "cell_type": "code",
   "execution_count": null,
   "metadata": {},
   "outputs": [],
   "source": []
  }
 ],
 "metadata": {
  "kernelspec": {
   "display_name": "Python 3",
   "language": "python",
   "name": "python3"
  },
  "language_info": {
   "codemirror_mode": {
    "name": "ipython",
    "version": 3
   },
   "file_extension": ".py",
   "mimetype": "text/x-python",
   "name": "python",
   "nbconvert_exporter": "python",
   "pygments_lexer": "ipython3",
   "version": "3.7.3"
  }
 },
 "nbformat": 4,
 "nbformat_minor": 2
}
